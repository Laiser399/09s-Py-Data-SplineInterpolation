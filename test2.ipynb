{
 "cells": [
  {
   "cell_type": "code",
   "execution_count": 112,
   "metadata": {
    "collapsed": true
   },
   "outputs": [],
   "source": [
    "from IPython.core.display import display, Math\n",
    "from sympy import symbols, diff, solve, Indexed, latex, S\n",
    "\n",
    "i = symbols('i')\n",
    "ii = symbols('x')\n",
    "a = Indexed('a_', i)\n",
    "b = Indexed('b_', i)\n",
    "c = Indexed('c_', i)\n",
    "d = Indexed('d_', i)\n",
    "x_i = Indexed('x_', i)\n",
    "x_im1 = x_i.subs(i, i - 1)\n",
    "h_i = Indexed('h_', i)"
   ]
  },
  {
   "cell_type": "code",
   "execution_count": 87,
   "outputs": [],
   "source": [
    "S_i = a + b * (ii - x_i) + c * (ii - x_i) ** 2 + d * (ii - x_i) ** 3\n",
    "S_i_d1 = diff(S_i, ii)\n",
    "S_i_d2 = diff(S_i_d1, ii)"
   ],
   "metadata": {
    "collapsed": false,
    "pycharm": {
     "name": "#%%\n"
    }
   }
  },
  {
   "cell_type": "code",
   "execution_count": 88,
   "outputs": [
    {
     "data": {
      "text/plain": "<IPython.core.display.Math object>",
      "text/latex": "$\\displaystyle S_i(x) = \\left(x - {x_{}}_{i}\\right)^{3} {d_{}}_{i} + \\left(x - {x_{}}_{i}\\right)^{2} {c_{}}_{i} + \\left(x - {x_{}}_{i}\\right) {b_{}}_{i} + {a_{}}_{i}$"
     },
     "metadata": {},
     "output_type": "display_data"
    },
    {
     "data": {
      "text/plain": "<IPython.core.display.Math object>",
      "text/latex": "$\\displaystyle S_i'(x) = 3 \\left(x - {x_{}}_{i}\\right)^{2} {d_{}}_{i} + \\left(2 x - 2 {x_{}}_{i}\\right) {c_{}}_{i} + {b_{}}_{i}$"
     },
     "metadata": {},
     "output_type": "display_data"
    },
    {
     "data": {
      "text/plain": "<IPython.core.display.Math object>",
      "text/latex": "$\\displaystyle S_i''(x) = \\left(6 x - 6 {x_{}}_{i}\\right) {d_{}}_{i} + 2 {c_{}}_{i}$"
     },
     "metadata": {},
     "output_type": "display_data"
    }
   ],
   "source": [
    "display(Math('S_i(x) = ' + latex(S_i)))\n",
    "display(Math('S_i\\'(x) = ' + latex(S_i_d1)))\n",
    "display(Math('S_i\\'\\'(x) = ' + latex(S_i_d2)))"
   ],
   "metadata": {
    "collapsed": false,
    "pycharm": {
     "name": "#%%\n"
    }
   }
  },
  {
   "cell_type": "code",
   "execution_count": 127,
   "outputs": [],
   "source": [
    "cond0 = S_i.subs(ii, x_im1) - S_i.subs(i, i - 1).subs(ii, x_im1)\n",
    "cond1 = S_i_d1.subs(ii, x_im1) - S_i_d1.subs(i, i - 1).subs(ii, x_im1)\n",
    "cond2 = S_i_d2.subs(ii, x_im1) - S_i_d2.subs(i, i - 1).subs(ii, x_im1)\n",
    "cond0 = cond0.subs(x_i - x_im1, h_i)\n",
    "cond1 = cond1.simplify().subs(x_i - x_im1, h_i)\n",
    "cond2 = cond2.simplify().subs(x_i - x_im1, h_i)"
   ],
   "metadata": {
    "collapsed": false,
    "pycharm": {
     "name": "#%%\n"
    }
   }
  },
  {
   "cell_type": "code",
   "execution_count": 128,
   "outputs": [
    {
     "data": {
      "text/plain": "<IPython.core.display.Math object>",
      "text/latex": "$\\displaystyle - {a_{}}_{i - 1} + {a_{}}_{i} - {b_{}}_{i} {h_{}}_{i} + {c_{}}_{i} {h_{}}_{i}^{2} - {d_{}}_{i} {h_{}}_{i}^{3} = 0$"
     },
     "metadata": {},
     "output_type": "display_data"
    },
    {
     "data": {
      "text/plain": "<IPython.core.display.Math object>",
      "text/latex": "$\\displaystyle - {b_{}}_{i - 1} + {b_{}}_{i} - 2 {c_{}}_{i} {h_{}}_{i} + 3 {d_{}}_{i} {h_{}}_{i}^{2} = 0$"
     },
     "metadata": {},
     "output_type": "display_data"
    },
    {
     "data": {
      "text/plain": "<IPython.core.display.Math object>",
      "text/latex": "$\\displaystyle - 2 {c_{}}_{i - 1} + 2 {c_{}}_{i} - 6 {d_{}}_{i} {h_{}}_{i} = 0$"
     },
     "metadata": {},
     "output_type": "display_data"
    }
   ],
   "source": [
    "display(Math(latex(cond0) + ' = 0'))\n",
    "display(Math(latex(cond1) + ' = 0'))\n",
    "display(Math(latex(cond2) + ' = 0'))"
   ],
   "metadata": {
    "collapsed": false,
    "pycharm": {
     "name": "#%%\n"
    }
   }
  },
  {
   "cell_type": "code",
   "execution_count": 129,
   "outputs": [],
   "source": [
    "d_solved = solve(cond2, d)[0]\n",
    "cond0_d = cond0.subs(d, d_solved).simplify()\n",
    "cond1_d = cond1.subs(d, d_solved).simplify()"
   ],
   "metadata": {
    "collapsed": false,
    "pycharm": {
     "name": "#%%\n"
    }
   }
  },
  {
   "cell_type": "code",
   "execution_count": 130,
   "outputs": [
    {
     "data": {
      "text/plain": "<IPython.core.display.Math object>",
      "text/latex": "$\\displaystyle \\frac{\\left({c_{}}_{i - 1} - {c_{}}_{i}\\right) {h_{}}_{i}^{2}}{3} - {a_{}}_{i - 1} + {a_{}}_{i} - {b_{}}_{i} {h_{}}_{i} + {c_{}}_{i} {h_{}}_{i}^{2} = 0$"
     },
     "metadata": {},
     "output_type": "display_data"
    },
    {
     "data": {
      "text/plain": "<IPython.core.display.Math object>",
      "text/latex": "$\\displaystyle - {b_{}}_{i - 1} + {b_{}}_{i} - {c_{}}_{i - 1} {h_{}}_{i} - {c_{}}_{i} {h_{}}_{i} = 0$"
     },
     "metadata": {},
     "output_type": "display_data"
    }
   ],
   "source": [
    "display(Math(latex(cond0_d) + ' = 0'))\n",
    "display(Math(latex(cond1_d) + ' = 0'))"
   ],
   "metadata": {
    "collapsed": false,
    "pycharm": {
     "name": "#%%\n"
    }
   }
  },
  {
   "cell_type": "code",
   "execution_count": 164,
   "outputs": [
    {
     "data": {
      "text/plain": "<IPython.core.display.Math object>",
      "text/latex": "$\\displaystyle \\frac{3 {a_{}}_{i + 1}}{{h_{}}_{i + 1}} + \\frac{3 {a_{}}_{i - 1}}{{h_{}}_{i}} - \\frac{3 {a_{}}_{i}}{{h_{}}_{i}} - \\frac{3 {a_{}}_{i}}{{h_{}}_{i + 1}} - {c_{}}_{i + 1} {h_{}}_{i + 1} - {c_{}}_{i - 1} {h_{}}_{i} - 2 {c_{}}_{i} {h_{}}_{i + 1} - 2 {c_{}}_{i} {h_{}}_{i} = 0$"
     },
     "metadata": {},
     "output_type": "display_data"
    }
   ],
   "source": [
    "b_solved = solve(cond0_d, b)[0].expand()\n",
    "b_solved_im1 = b_solved.subs(i, i - 1)\n",
    "b_im1 = b.subs(i, i - 1)\n",
    "cond1_d_b = cond1_d.subs(b, b_solved).subs(b_im1, b_solved_im1).subs(i, i + 1) * 3\n",
    "display(Math(latex(cond1_d_b) + ' = 0'))"
   ],
   "metadata": {
    "collapsed": false,
    "pycharm": {
     "name": "#%%\n"
    }
   }
  },
  {
   "cell_type": "code",
   "execution_count": 192,
   "outputs": [
    {
     "data": {
      "text/plain": "-4*c_[1] - c_[2] - 2.5080115823508",
      "text/latex": "$\\displaystyle - 4 {c_{}}_{1} - {c_{}}_{2} - 2.5080115823508$"
     },
     "metadata": {},
     "output_type": "display_data"
    },
    {
     "data": {
      "text/plain": "-c_[1] - 4*c_[2] - c_[3] - 0.389235253805943",
      "text/latex": "$\\displaystyle - {c_{}}_{1} - 4 {c_{}}_{2} - {c_{}}_{3} - 0.389235253805943$"
     },
     "metadata": {},
     "output_type": "display_data"
    },
    {
     "data": {
      "text/plain": "-c_[2] - 4*c_[3] - c_[4] + 2.08740217203776",
      "text/latex": "$\\displaystyle - {c_{}}_{2} - 4 {c_{}}_{3} - {c_{}}_{4} + 2.08740217203776$"
     },
     "metadata": {},
     "output_type": "display_data"
    },
    {
     "data": {
      "text/plain": "-c_[3] - 4*c_[4] + 2.64489166745827",
      "text/latex": "$\\displaystyle - {c_{}}_{3} - 4 {c_{}}_{4} + 2.64489166745827$"
     },
     "metadata": {},
     "output_type": "display_data"
    }
   ],
   "source": [
    "import numpy as np\n",
    "left, right = 1, 6\n",
    "\n",
    "points_count = 6\n",
    "sections_count = points_count - 1\n",
    "\n",
    "step = (right - left) / sections_count\n",
    "ii = np.linspace(left, right, 6)\n",
    "y = np.sin(ii)\n",
    "\n",
    "aga = []\n",
    "c_0 = c.subs(i, 0)\n",
    "c_5 = c.subs(i, 5)\n",
    "for ii in range(1, 5):\n",
    "    a_iim1 = a.subs(i, ii - 1)\n",
    "    a_ii = a.subs(i, ii)\n",
    "    a_iip1 = a.subs(i, ii + 1)\n",
    "    h_ii = h_i.subs(i, ii)\n",
    "    h_iip1 = h_i.subs(i, ii + 1)\n",
    "\n",
    "    tm = cond1_d_b.subs(i, ii)\n",
    "    tm = tm.subs(a_iim1, y[ii - 1])\n",
    "    tm = tm.subs(a_ii, y[ii])\n",
    "    tm = tm.subs(a_iip1, y[ii + 1])\n",
    "    tm = tm.subs(h_ii, 1)\n",
    "    tm = tm.subs(h_iip1, 1)\n",
    "    tm = tm.subs(h_iip1, 1)\n",
    "    tm = tm.subs(c_0, 0)\n",
    "    tm = tm.subs(c_5, 0)\n",
    "    aga.append(tm)\n",
    "    display(tm)"
   ],
   "metadata": {
    "collapsed": false,
    "pycharm": {
     "name": "#%%\n"
    }
   }
  },
  {
   "cell_type": "code",
   "execution_count": null,
   "outputs": [],
   "source": [
    "1,-0.616772\n",
    "2,-0.040923\n",
    "3,0.391227\n",
    "4,0.563416"
   ],
   "metadata": {
    "collapsed": false,
    "pycharm": {
     "name": "#%%\n"
    }
   }
  },
  {
   "cell_type": "code",
   "execution_count": 209,
   "outputs": [
    {
     "data": {
      "text/plain": "[0,\n -0.616772262123746,\n -0.0409225338558166,\n 0.391227143741069,\n 0.563416130929300,\n 0]"
     },
     "execution_count": 209,
     "metadata": {},
     "output_type": "execute_result"
    }
   ],
   "source": [
    "from sympy import solve\n",
    "tm = solve(aga)\n",
    "c_values = [0 for ii in range(6)]\n",
    "c_values[1] = tm[c.subs(i, 1)]\n",
    "c_values[2] = tm[c.subs(i, 2)]\n",
    "c_values[3] = tm[c.subs(i, 3)]\n",
    "c_values[4] = tm[c.subs(i, 4)]"
   ],
   "metadata": {
    "collapsed": false,
    "pycharm": {
     "name": "#%%\n"
    }
   }
  },
  {
   "cell_type": "code",
   "execution_count": 214,
   "outputs": [
    {
     "data": {
      "text/plain": "-a_[i - 1]/h_[i] + a_[i]/h_[i] + c_[i - 1]*h_[i]/3 + 2*c_[i]*h_[i]/3",
      "text/latex": "$\\displaystyle - \\frac{{a_{}}_{i - 1}}{{h_{}}_{i}} + \\frac{{a_{}}_{i}}{{h_{}}_{i}} + \\frac{{c_{}}_{i - 1} {h_{}}_{i}}{3} + \\frac{2 {c_{}}_{i} {h_{}}_{i}}{3}$"
     },
     "metadata": {},
     "output_type": "display_data"
    },
    {
     "data": {
      "text/plain": "-0.343355066064712",
      "text/latex": "$\\displaystyle -0.343355066064712$"
     },
     "metadata": {},
     "output_type": "display_data"
    },
    {
     "data": {
      "text/plain": "-1.00104986204427",
      "text/latex": "$\\displaystyle -1.00104986204427$"
     },
     "metadata": {},
     "output_type": "display_data"
    },
    {
     "data": {
      "text/plain": "-0.650745252159022",
      "text/latex": "$\\displaystyle -0.650745252159022$"
     },
     "metadata": {},
     "output_type": "display_data"
    },
    {
     "data": {
      "text/plain": "0.303898022511346",
      "text/latex": "$\\displaystyle 0.303898022511346$"
     },
     "metadata": {},
     "output_type": "display_data"
    },
    {
     "data": {
      "text/plain": "0.867314153440646",
      "text/latex": "$\\displaystyle 0.867314153440646$"
     },
     "metadata": {},
     "output_type": "display_data"
    }
   ],
   "source": [
    "display(b_solved)\n",
    "for ii in range(1, 6):\n",
    "    a_iim1 = a.subs(i, ii - 1)\n",
    "    a_ii = a.subs(i, ii)\n",
    "    c_iim1 = c.subs(i, ii - 1)\n",
    "    c_ii = c.subs(i, ii)\n",
    "    h_ii = h_i.subs(i, ii)\n",
    "\n",
    "    tm = b_solved.subs(i, ii)\n",
    "    tm = tm.subs(a_iim1, y[ii - 1])\n",
    "    tm = tm.subs(a_ii, y[ii])\n",
    "    tm = tm.subs(c_iim1, c_values[ii - 1])\n",
    "    tm = tm.subs(c_ii, c_values[ii])\n",
    "    tm = tm.subs(h_ii, 1)\n",
    "    display(tm)"
   ],
   "metadata": {
    "collapsed": false,
    "pycharm": {
     "name": "#%%\n"
    }
   }
  },
  {
   "cell_type": "code",
   "execution_count": 213,
   "outputs": [
    {
     "data": {
      "text/plain": "array([ 0.84147098,  0.90929743,  0.14112001, -0.7568025 , -0.95892427,\n       -0.2794155 ])"
     },
     "execution_count": 213,
     "metadata": {},
     "output_type": "execute_result"
    }
   ],
   "source": [
    "y"
   ],
   "metadata": {
    "collapsed": false,
    "pycharm": {
     "name": "#%%\n"
    }
   }
  }
 ],
 "metadata": {
  "kernelspec": {
   "display_name": "Python 3",
   "language": "python",
   "name": "python3"
  },
  "language_info": {
   "codemirror_mode": {
    "name": "ipython",
    "version": 2
   },
   "file_extension": ".py",
   "mimetype": "text/x-python",
   "name": "python",
   "nbconvert_exporter": "python",
   "pygments_lexer": "ipython2",
   "version": "2.7.6"
  }
 },
 "nbformat": 4,
 "nbformat_minor": 0
}
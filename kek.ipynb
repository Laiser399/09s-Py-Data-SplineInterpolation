{
 "cells": [
  {
   "cell_type": "code",
   "execution_count": 102,
   "metadata": {
    "collapsed": true
   },
   "outputs": [],
   "source": [
    "# from sympy import S, sin, symbols, Matrix, zeros\n",
    "from IPython.core.display import display\n",
    "import numpy as np\n",
    "from math import sin\n",
    "\n",
    "left, right = 1, 6\n",
    "\n",
    "points_count = 6\n",
    "sections_count = points_count - 1\n",
    "\n",
    "step = (right - left) / sections_count\n",
    "x = np.linspace(left, right, 6)\n",
    "y = np.sin(x)"
   ]
  },
  {
   "cell_type": "code",
   "execution_count": 118,
   "outputs": [
    {
     "data": {
      "text/plain": "array([1., 2., 3., 4., 5., 6.])"
     },
     "execution_count": 118,
     "metadata": {},
     "output_type": "execute_result"
    }
   ],
   "source": [
    "x"
   ],
   "metadata": {
    "collapsed": false,
    "pycharm": {
     "name": "#%%\n"
    }
   }
  },
  {
   "cell_type": "code",
   "execution_count": 119,
   "outputs": [
    {
     "data": {
      "text/plain": "array([ 0.84147098,  0.90929743,  0.14112001, -0.7568025 , -0.95892427,\n       -0.2794155 ])"
     },
     "execution_count": 119,
     "metadata": {},
     "output_type": "execute_result"
    }
   ],
   "source": [
    "y"
   ],
   "metadata": {
    "collapsed": false,
    "pycharm": {
     "name": "#%%\n"
    }
   }
  },
  {
   "cell_type": "code",
   "execution_count": 127,
   "outputs": [
    {
     "data": {
      "text/plain": "[None, 1.0, 1.0, 1.0, 1.0, 1.0]"
     },
     "execution_count": 127,
     "metadata": {},
     "output_type": "execute_result"
    }
   ],
   "source": [
    "h = [None] + [x[i + 1] - x[i] for i in range(sections_count)]\n",
    "h"
   ],
   "metadata": {
    "collapsed": false,
    "pycharm": {
     "name": "#%%\n"
    }
   }
  },
  {
   "cell_type": "code",
   "execution_count": 216,
   "outputs": [],
   "source": [
    "from numpy import zeros\n",
    "\n",
    "A = zeros([4, 4])\n",
    "B = zeros(4)\n",
    "for i in range(points_count - 2):\n",
    "    if i > 0:\n",
    "        A[i, i - 1] = h[i + 1]\n",
    "    A[i, i] = 2 * (h[i + 1] + h[i + 2])\n",
    "    if i < points_count - 3:\n",
    "        A[i, i + 1] = h[i + 2]\n",
    "\n",
    "    tm1 = (y[i + 2] - y[i + 1]) / h[i + 2]\n",
    "    tm2 = (y[i + 1] - y[i]) / h[i + 1]\n",
    "    B[i] = 3 * (tm1 - tm2)"
   ],
   "metadata": {
    "collapsed": false,
    "pycharm": {
     "name": "#%%\n"
    }
   }
  },
  {
   "cell_type": "code",
   "execution_count": 217,
   "outputs": [
    {
     "data": {
      "text/plain": "array([[4., 1., 0., 0.],\n       [1., 4., 1., 0.],\n       [0., 1., 4., 1.],\n       [0., 0., 1., 4.]])"
     },
     "execution_count": 217,
     "metadata": {},
     "output_type": "execute_result"
    }
   ],
   "source": [
    "A"
   ],
   "metadata": {
    "collapsed": false,
    "pycharm": {
     "name": "#%%\n"
    }
   }
  },
  {
   "cell_type": "code",
   "execution_count": 218,
   "outputs": [
    {
     "data": {
      "text/plain": "array([-2.50801158, -0.38923525,  2.08740217,  2.64489167])"
     },
     "execution_count": 218,
     "metadata": {},
     "output_type": "execute_result"
    }
   ],
   "source": [
    "B"
   ],
   "metadata": {
    "collapsed": false,
    "pycharm": {
     "name": "#%%\n"
    }
   }
  },
  {
   "cell_type": "code",
   "execution_count": 219,
   "outputs": [
    {
     "data": {
      "text/plain": "array([ 0.        , -0.61677226, -0.04092253,  0.39122714,  0.56341613,\n        0.        ])"
     },
     "execution_count": 219,
     "metadata": {},
     "output_type": "execute_result"
    }
   ],
   "source": [
    "from numpy.linalg import solve\n",
    "from numpy import concatenate\n",
    "\n",
    "c = concatenate([[0], solve(A, B), [0]])\n",
    "c"
   ],
   "metadata": {
    "collapsed": false,
    "pycharm": {
     "name": "#%%\n"
    }
   }
  },
  {
   "cell_type": "code",
   "execution_count": 220,
   "outputs": [
    {
     "data": {
      "text/plain": "array([None, 0.47900795010028235, -0.535304975487355, -1.1450997545765687,\n       -0.7081415812217664, 0.4917033994877792], dtype=object)"
     },
     "execution_count": 220,
     "metadata": {},
     "output_type": "execute_result"
    }
   ],
   "source": [
    "b = np.full(6, None)\n",
    "for i in range(1, points_count):\n",
    "    tm_a = (y[i] - y[i - 1]) / h[i]\n",
    "    tm_b = h[i] * (2 * c[i] + c[i - 1]) / 3\n",
    "    b[i] = tm_a - tm_b\n",
    "b"
   ],
   "metadata": {
    "collapsed": false,
    "pycharm": {
     "name": "#%%\n"
    }
   }
  },
  {
   "cell_type": "code",
   "execution_count": 221,
   "outputs": [
    {
     "data": {
      "text/plain": "array([None, -0.20559075404124857, 0.19194990942264314,\n       0.14404989253229472, 0.05739632906274411, -0.1878053769764334],\n      dtype=object)"
     },
     "execution_count": 221,
     "metadata": {},
     "output_type": "execute_result"
    }
   ],
   "source": [
    "d = np.full(6, None)\n",
    "for i in range(1, points_count):\n",
    "    d[i] = (c[i] - c[i - 1]) / (3 * h[i])\n",
    "d"
   ],
   "metadata": {
    "collapsed": false,
    "pycharm": {
     "name": "#%%\n"
    }
   }
  },
  {
   "cell_type": "code",
   "execution_count": 222,
   "outputs": [
    {
     "data": {
      "text/plain": "array([None, 0.9092974268256817, 0.1411200080598672, -0.7568024953079282,\n       -0.9589242746631385, -0.27941549819892586], dtype=object)"
     },
     "execution_count": 222,
     "metadata": {},
     "output_type": "execute_result"
    }
   ],
   "source": [
    "a = np.full(6, None)\n",
    "for i in range(1, points_count):\n",
    "    a[i] = y[i]\n",
    "a"
   ],
   "metadata": {
    "collapsed": false,
    "pycharm": {
     "name": "#%%\n"
    }
   }
  },
  {
   "cell_type": "code",
   "execution_count": 223,
   "outputs": [
    {
     "data": {
      "text/plain": "<IPython.core.display.Math object>",
      "text/latex": "$\\displaystyle S_1(x) = - 0.206 x^{3} + 0.617 x^{2} + 0.479 x - 0.871\\;\\;\\;x \\in [1.0, 2.0]$"
     },
     "metadata": {},
     "output_type": "display_data"
    },
    {
     "data": {
      "text/plain": "<IPython.core.display.Math object>",
      "text/latex": "$\\displaystyle S_2(x) = 0.192 x^{3} - 1.77 x^{2} + 4.89 x - 3.8\\;\\;\\;x \\in [2.0, 3.0]$"
     },
     "metadata": {},
     "output_type": "display_data"
    },
    {
     "data": {
      "text/plain": "<IPython.core.display.Math object>",
      "text/latex": "$\\displaystyle S_3(x) = 0.144 x^{3} - 1.34 x^{2} + 2.64 x + 0.864\\;\\;\\;x \\in [3.0, 4.0]$"
     },
     "metadata": {},
     "output_type": "display_data"
    },
    {
     "data": {
      "text/plain": "<IPython.core.display.Math object>",
      "text/latex": "$\\displaystyle S_4(x) = 0.0574 x^{3} - 0.298 x^{2} - 2.04 x + 9.49\\;\\;\\;x \\in [4.0, 5.0]$"
     },
     "metadata": {},
     "output_type": "display_data"
    },
    {
     "data": {
      "text/plain": "<IPython.core.display.Math object>",
      "text/latex": "$\\displaystyle S_5(x) = 0.492 x - 40.6 \\left(0.167 x - 1.0\\right)^{3} - 3.23\\;\\;\\;x \\in [5.0, 6.0]$"
     },
     "metadata": {},
     "output_type": "display_data"
    }
   ],
   "source": [
    "from IPython.core.display import Math\n",
    "from sympy import symbols, latex, S\n",
    "\n",
    "x_var = symbols('x')\n",
    "splines = np.full(6, None)\n",
    "for i in range(1, points_count):\n",
    "    splines[i] = a[i] + b[i] * (x_var - x[i]) + c[i] * (x_var - x[i])**2 + d[i] * (x_var - x[i])**3\n",
    "    splines[i] = splines[i].simplify()\n",
    "    display(Math(f'S_{i}(x) = ' + latex(splines[i].n(3)) + f'\\\\;\\\\;\\\\;x \\in [{x[i - 1]}, {x[i]}]'))"
   ],
   "metadata": {
    "collapsed": false,
    "pycharm": {
     "name": "#%%\n"
    }
   }
  },
  {
   "cell_type": "code",
   "execution_count": 224,
   "outputs": [
    {
     "data": {
      "text/plain": "[<matplotlib.lines.Line2D at 0xf7a8be0>]"
     },
     "execution_count": 224,
     "metadata": {},
     "output_type": "execute_result"
    },
    {
     "data": {
      "text/plain": "<Figure size 432x288 with 1 Axes>",
      "image/png": "[encoded data removed]"
     },
     "metadata": {
      "needs_background": "light"
     },
     "output_type": "display_data"
    }
   ],
   "source": [
    "import matplotlib.pyplot as plt\n",
    "\n",
    "full_args = []\n",
    "full_spline_values = []\n",
    "full_base_values = []\n",
    "for i in range(1, points_count):\n",
    "    args = np.linspace(x[i - 1], x[i], 100)\n",
    "    spline_values = np.array([splines[i].subs(x_var, arg).n(3) for arg in args])\n",
    "    base_values = np.sin(args)\n",
    "\n",
    "    full_args.append(args)\n",
    "    full_spline_values.append(spline_values)\n",
    "    full_base_values.append(base_values)\n",
    "\n",
    "full_args = concatenate(full_args)\n",
    "full_spline_values = concatenate(full_spline_values)\n",
    "full_base_values = concatenate(full_base_values)\n",
    "plt.plot(full_args, full_spline_values)\n",
    "plt.plot(full_args, full_base_values)"
   ],
   "metadata": {
    "collapsed": false,
    "pycharm": {
     "name": "#%%\n"
    }
   }
  },
  {
   "cell_type": "code",
   "execution_count": 229,
   "outputs": [
    {
     "data": {
      "text/plain": "(-3.0, 3.0)"
     },
     "execution_count": 229,
     "metadata": {},
     "output_type": "execute_result"
    },
    {
     "data": {
      "text/plain": "<Figure size 432x288 with 1 Axes>",
      "image/png": "[encoded data removed]"
     },
     "metadata": {
      "needs_background": "light"
     },
     "output_type": "display_data"
    }
   ],
   "source": [
    "args = np.linspace(x[0], x[5], 500)\n",
    "base_values = np.sin(args)\n",
    "plt.plot(args, base_values, 'r')\n",
    "for i in range(1, points_count):\n",
    "    spline_values = np.array([splines[i].subs(x_var, arg).n(3) for arg in args])\n",
    "    plt.plot(args, spline_values)\n",
    "plt.ylim(-3, 3)"
   ],
   "metadata": {
    "collapsed": false,
    "pycharm": {
     "name": "#%%\n"
    }
   }
  },
  {
   "cell_type": "code",
   "execution_count": 225,
   "outputs": [
    {
     "data": {
      "text/plain": "0.909297426825681",
      "text/latex": "$\\displaystyle 0.909297426825681$"
     },
     "execution_count": 225,
     "metadata": {},
     "output_type": "execute_result"
    }
   ],
   "source": [
    "splines[1].subs(x_var, 2)"
   ],
   "metadata": {
    "collapsed": false,
    "pycharm": {
     "name": "#%%\n"
    }
   }
  },
  {
   "cell_type": "code",
   "execution_count": 159,
   "outputs": [
    {
     "data": {
      "text/plain": "0.443552540268763",
      "text/latex": "$\\displaystyle 0.443552540268763$"
     },
     "execution_count": 159,
     "metadata": {},
     "output_type": "execute_result"
    }
   ],
   "source": [
    "splines[2].subs(x_var, 2)"
   ],
   "metadata": {
    "collapsed": false,
    "pycharm": {
     "name": "#%%\n"
    }
   }
  },
  {
   "cell_type": "code",
   "execution_count": 165,
   "outputs": [
    {
     "data": {
      "text/plain": "-1.23354452424749",
      "text/latex": "$\\displaystyle -1.23354452424749$"
     },
     "execution_count": 165,
     "metadata": {},
     "output_type": "execute_result"
    }
   ],
   "source": [
    "from sympy import diff\n",
    "diff(splines[1], x_var, 2).subs(x_var, 2)"
   ],
   "metadata": {
    "collapsed": false,
    "pycharm": {
     "name": "#%%\n"
    }
   }
  },
  {
   "cell_type": "code",
   "execution_count": 164,
   "outputs": [
    {
     "data": {
      "text/plain": "-1.23354452424749",
      "text/latex": "$\\displaystyle -1.23354452424749$"
     },
     "execution_count": 164,
     "metadata": {},
     "output_type": "execute_result"
    }
   ],
   "source": [
    "diff(splines[2], x_var, 2).subs(x_var, 2)"
   ],
   "metadata": {
    "collapsed": false,
    "pycharm": {
     "name": "#%%\n"
    }
   }
  }
 ],
 "metadata": {
  "kernelspec": {
   "display_name": "Python 3",
   "language": "python",
   "name": "python3"
  },
  "language_info": {
   "codemirror_mode": {
    "name": "ipython",
    "version": 2
   },
   "file_extension": ".py",
   "mimetype": "text/x-python",
   "name": "python",
   "nbconvert_exporter": "python",
   "pygments_lexer": "ipython2",
   "version": "2.7.6"
  }
 },
 "nbformat": 4,
 "nbformat_minor": 0
}